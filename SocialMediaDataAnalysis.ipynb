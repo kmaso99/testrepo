{
 "cells": [
  {
   "cell_type": "markdown",
   "metadata": {},
   "source": [
    "# Clean & Analyze Social Media"
   ]
  },
  {
   "cell_type": "markdown",
   "metadata": {},
   "source": [
    "## Introduction\n",
    "\n",
    "Social media has become a ubiquitous part of modern life, with platforms such as Instagram, Twitter, and Facebook serving as essential communication channels. Social media data sets are vast and complex, making analysis a challenging task for businesses and researchers alike. In this project, we explore a simulated social media, for example Tweets, data set to understand trends in likes across different categories.\n",
    "\n",
    "## Prerequisites\n",
    "\n",
    "To follow along with this project, you should have a basic understanding of Python programming and data analysis concepts. In addition, you may want to use the following packages in your Python environment:\n",
    "\n",
    "- pandas\n",
    "- Matplotlib\n",
    "- ...\n",
    "\n",
    "These packages should already be installed in Coursera's Jupyter Notebook environment, however if you'd like to install additional packages that are not included in this environment or are working off platform you can install additional packages using `!pip install packagename` within a notebook cell such as:\n",
    "\n",
    "- `!pip install pandas`\n",
    "- `!pip install matplotlib`\n",
    "\n",
    "## Project Scope\n",
    "\n",
    "The objective of this project is to analyze tweets (or other social media data) and gain insights into user engagement. We will explore the data set using visualization techniques to understand the distribution of likes across different categories. Finally, we will analyze the data to draw conclusions about the most popular categories and the overall engagement on the platform.\n",
    "\n",
    "## Step 1: Importing Required Libraries\n",
    "\n",
    "As the name suggests, the first step is to import all the necessary libraries that will be used in the project. In this case, we need pandas, numpy, matplotlib, seaborn, and random libraries.\n",
    "\n",
    "Pandas is a library used for data manipulation and analysis. Numpy is a library used for numerical computations. Matplotlib is a library used for data visualization. Seaborn is a library used for statistical data visualization. Random is a library used to generate random numbers."
   ]
  },
  {
   "cell_type": "code",
   "execution_count": 6,
   "metadata": {},
   "outputs": [],
   "source": [
    "import pandas as pd\n",
    "import numpy as np\n",
    "import random"
   ]
  },
  {
   "cell_type": "code",
   "execution_count": 7,
   "metadata": {},
   "outputs": [],
   "source": [
    "#Define the categories\n",
    "categories = ['Food', 'Travel', 'Fashion', 'Fitness', 'Music', 'Culture', 'Family', 'Health']"
   ]
  },
  {
   "cell_type": "code",
   "execution_count": 8,
   "metadata": {},
   "outputs": [],
   "source": [
    "#Number of entries (n)\n",
    "n = 90000"
   ]
  },
  {
   "cell_type": "code",
   "execution_count": 9,
   "metadata": {},
   "outputs": [],
   "source": [
    "#Generate random data\n",
    "data = {\n",
    "    'Date': pd.date_range('2015-01-01', '2023-12-31', periods = n),\n",
    "    'Category': [random.choice(categories) for _ in range(n)],\n",
    "    'Likes': np.random.randint(0, 10000, size = n),\n",
    "    'Shares': np.random.randint(0, 1000, size = n),\n",
    "    'Reposts': np.random.randint(0, 200, size = n),\n",
    "    'Comments': np.random.randint(0, 10000, size = n)\n",
    "}"
   ]
  },
  {
   "cell_type": "code",
   "execution_count": 10,
   "metadata": {},
   "outputs": [],
   "source": [
    "#Create a dataframe\n",
    "df = pd.DataFrame(data)"
   ]
  },
  {
   "cell_type": "code",
   "execution_count": 11,
   "metadata": {},
   "outputs": [],
   "source": [
    "#Split the 'Date' column into separate 'Date' and 'Time' columns\n",
    "df['Date'] = df['Date'].dt.date #Extract only the date component"
   ]
  },
  {
   "cell_type": "code",
   "execution_count": 12,
   "metadata": {},
   "outputs": [],
   "source": [
    "df.to_csv('Twitter_Analysis.csv', index = False)"
   ]
  },
  {
   "cell_type": "code",
   "execution_count": 13,
   "metadata": {},
   "outputs": [
    {
     "name": "stdout",
     "output_type": "stream",
     "text": [
      "         Date Category  Likes  Shares  Reposts  Comments\n",
      "0  2015-01-01     Food   9958     316       23      4047\n",
      "1  2015-01-01   Travel   7303     349      107      5845\n",
      "2  2015-01-01    Music    902      40      181      6418\n",
      "3  2015-01-01    Music   5860     331       13      2535\n",
      "4  2015-01-01   Family   7294      60       60      5799\n",
      "5  2015-01-01    Music    710     700      124      1055\n",
      "6  2015-01-01  Fitness   3666     497       26      5050\n",
      "7  2015-01-01    Music   4424     282       97      8538\n",
      "8  2015-01-01   Travel   5535     125       93      9860\n",
      "9  2015-01-01  Culture   3768     383       22      4273\n"
     ]
    }
   ],
   "source": [
    "#Print the first few rows of the DataFrame\n",
    "print(df.head(10))"
   ]
  },
  {
   "cell_type": "code",
   "execution_count": 14,
   "metadata": {},
   "outputs": [
    {
     "name": "stderr",
     "output_type": "stream",
     "text": [
      "UsageError: Line magic function `%matplotlib.inline` not found.\n"
     ]
    }
   ],
   "source": [
    "import matplotlib.pyplot as plt\n",
    "import seaborn as sns\n",
    "%matplotlib.inline\n",
    "\n",
    "import warnings\n",
    "warnings.filterwarnings('ignore')"
   ]
  },
  {
   "cell_type": "markdown",
   "metadata": {},
   "source": [
    "# Reading The Dataset"
   ]
  },
  {
   "cell_type": "code",
   "execution_count": 15,
   "metadata": {},
   "outputs": [
    {
     "data": {
      "text/html": [
       "<div>\n",
       "<style scoped>\n",
       "    .dataframe tbody tr th:only-of-type {\n",
       "        vertical-align: middle;\n",
       "    }\n",
       "\n",
       "    .dataframe tbody tr th {\n",
       "        vertical-align: top;\n",
       "    }\n",
       "\n",
       "    .dataframe thead th {\n",
       "        text-align: right;\n",
       "    }\n",
       "</style>\n",
       "<table border=\"1\" class=\"dataframe\">\n",
       "  <thead>\n",
       "    <tr style=\"text-align: right;\">\n",
       "      <th></th>\n",
       "      <th>Date</th>\n",
       "      <th>Category</th>\n",
       "      <th>Likes</th>\n",
       "      <th>Shares</th>\n",
       "      <th>Reposts</th>\n",
       "      <th>Comments</th>\n",
       "    </tr>\n",
       "  </thead>\n",
       "  <tbody>\n",
       "    <tr>\n",
       "      <th>0</th>\n",
       "      <td>2015-01-01</td>\n",
       "      <td>Food</td>\n",
       "      <td>9958</td>\n",
       "      <td>316</td>\n",
       "      <td>23</td>\n",
       "      <td>4047</td>\n",
       "    </tr>\n",
       "    <tr>\n",
       "      <th>1</th>\n",
       "      <td>2015-01-01</td>\n",
       "      <td>Travel</td>\n",
       "      <td>7303</td>\n",
       "      <td>349</td>\n",
       "      <td>107</td>\n",
       "      <td>5845</td>\n",
       "    </tr>\n",
       "    <tr>\n",
       "      <th>2</th>\n",
       "      <td>2015-01-01</td>\n",
       "      <td>Music</td>\n",
       "      <td>902</td>\n",
       "      <td>40</td>\n",
       "      <td>181</td>\n",
       "      <td>6418</td>\n",
       "    </tr>\n",
       "    <tr>\n",
       "      <th>3</th>\n",
       "      <td>2015-01-01</td>\n",
       "      <td>Music</td>\n",
       "      <td>5860</td>\n",
       "      <td>331</td>\n",
       "      <td>13</td>\n",
       "      <td>2535</td>\n",
       "    </tr>\n",
       "    <tr>\n",
       "      <th>4</th>\n",
       "      <td>2015-01-01</td>\n",
       "      <td>Family</td>\n",
       "      <td>7294</td>\n",
       "      <td>60</td>\n",
       "      <td>60</td>\n",
       "      <td>5799</td>\n",
       "    </tr>\n",
       "    <tr>\n",
       "      <th>...</th>\n",
       "      <td>...</td>\n",
       "      <td>...</td>\n",
       "      <td>...</td>\n",
       "      <td>...</td>\n",
       "      <td>...</td>\n",
       "      <td>...</td>\n",
       "    </tr>\n",
       "    <tr>\n",
       "      <th>89995</th>\n",
       "      <td>2023-12-30</td>\n",
       "      <td>Travel</td>\n",
       "      <td>1382</td>\n",
       "      <td>991</td>\n",
       "      <td>180</td>\n",
       "      <td>8822</td>\n",
       "    </tr>\n",
       "    <tr>\n",
       "      <th>89996</th>\n",
       "      <td>2023-12-30</td>\n",
       "      <td>Travel</td>\n",
       "      <td>104</td>\n",
       "      <td>993</td>\n",
       "      <td>69</td>\n",
       "      <td>7364</td>\n",
       "    </tr>\n",
       "    <tr>\n",
       "      <th>89997</th>\n",
       "      <td>2023-12-30</td>\n",
       "      <td>Music</td>\n",
       "      <td>5132</td>\n",
       "      <td>190</td>\n",
       "      <td>175</td>\n",
       "      <td>827</td>\n",
       "    </tr>\n",
       "    <tr>\n",
       "      <th>89998</th>\n",
       "      <td>2023-12-30</td>\n",
       "      <td>Health</td>\n",
       "      <td>4621</td>\n",
       "      <td>864</td>\n",
       "      <td>157</td>\n",
       "      <td>1298</td>\n",
       "    </tr>\n",
       "    <tr>\n",
       "      <th>89999</th>\n",
       "      <td>2023-12-31</td>\n",
       "      <td>Fitness</td>\n",
       "      <td>7139</td>\n",
       "      <td>854</td>\n",
       "      <td>119</td>\n",
       "      <td>725</td>\n",
       "    </tr>\n",
       "  </tbody>\n",
       "</table>\n",
       "<p>90000 rows × 6 columns</p>\n",
       "</div>"
      ],
      "text/plain": [
       "             Date Category  Likes  Shares  Reposts  Comments\n",
       "0      2015-01-01     Food   9958     316       23      4047\n",
       "1      2015-01-01   Travel   7303     349      107      5845\n",
       "2      2015-01-01    Music    902      40      181      6418\n",
       "3      2015-01-01    Music   5860     331       13      2535\n",
       "4      2015-01-01   Family   7294      60       60      5799\n",
       "...           ...      ...    ...     ...      ...       ...\n",
       "89995  2023-12-30   Travel   1382     991      180      8822\n",
       "89996  2023-12-30   Travel    104     993       69      7364\n",
       "89997  2023-12-30    Music   5132     190      175       827\n",
       "89998  2023-12-30   Health   4621     864      157      1298\n",
       "89999  2023-12-31  Fitness   7139     854      119       725\n",
       "\n",
       "[90000 rows x 6 columns]"
      ]
     },
     "execution_count": 15,
     "metadata": {},
     "output_type": "execute_result"
    }
   ],
   "source": [
    "df = pd.read_csv('Twitter_Analysis.csv')\n",
    "df"
   ]
  },
  {
   "cell_type": "code",
   "execution_count": 16,
   "metadata": {},
   "outputs": [
    {
     "data": {
      "text/html": [
       "<div>\n",
       "<style scoped>\n",
       "    .dataframe tbody tr th:only-of-type {\n",
       "        vertical-align: middle;\n",
       "    }\n",
       "\n",
       "    .dataframe tbody tr th {\n",
       "        vertical-align: top;\n",
       "    }\n",
       "\n",
       "    .dataframe thead th {\n",
       "        text-align: right;\n",
       "    }\n",
       "</style>\n",
       "<table border=\"1\" class=\"dataframe\">\n",
       "  <thead>\n",
       "    <tr style=\"text-align: right;\">\n",
       "      <th></th>\n",
       "      <th>Likes</th>\n",
       "      <th>Shares</th>\n",
       "      <th>Reposts</th>\n",
       "      <th>Comments</th>\n",
       "    </tr>\n",
       "  </thead>\n",
       "  <tbody>\n",
       "    <tr>\n",
       "      <th>count</th>\n",
       "      <td>90000.000000</td>\n",
       "      <td>90000.000000</td>\n",
       "      <td>90000.000000</td>\n",
       "      <td>90000.000000</td>\n",
       "    </tr>\n",
       "    <tr>\n",
       "      <th>mean</th>\n",
       "      <td>5006.307378</td>\n",
       "      <td>499.388756</td>\n",
       "      <td>99.525989</td>\n",
       "      <td>5003.517733</td>\n",
       "    </tr>\n",
       "    <tr>\n",
       "      <th>std</th>\n",
       "      <td>2887.489984</td>\n",
       "      <td>289.378904</td>\n",
       "      <td>57.735530</td>\n",
       "      <td>2887.739144</td>\n",
       "    </tr>\n",
       "    <tr>\n",
       "      <th>min</th>\n",
       "      <td>0.000000</td>\n",
       "      <td>0.000000</td>\n",
       "      <td>0.000000</td>\n",
       "      <td>0.000000</td>\n",
       "    </tr>\n",
       "    <tr>\n",
       "      <th>25%</th>\n",
       "      <td>2502.000000</td>\n",
       "      <td>248.000000</td>\n",
       "      <td>50.000000</td>\n",
       "      <td>2498.750000</td>\n",
       "    </tr>\n",
       "    <tr>\n",
       "      <th>50%</th>\n",
       "      <td>5003.000000</td>\n",
       "      <td>500.000000</td>\n",
       "      <td>100.000000</td>\n",
       "      <td>5008.000000</td>\n",
       "    </tr>\n",
       "    <tr>\n",
       "      <th>75%</th>\n",
       "      <td>7504.000000</td>\n",
       "      <td>750.000000</td>\n",
       "      <td>150.000000</td>\n",
       "      <td>7510.000000</td>\n",
       "    </tr>\n",
       "    <tr>\n",
       "      <th>max</th>\n",
       "      <td>9999.000000</td>\n",
       "      <td>999.000000</td>\n",
       "      <td>199.000000</td>\n",
       "      <td>9999.000000</td>\n",
       "    </tr>\n",
       "  </tbody>\n",
       "</table>\n",
       "</div>"
      ],
      "text/plain": [
       "              Likes        Shares       Reposts      Comments\n",
       "count  90000.000000  90000.000000  90000.000000  90000.000000\n",
       "mean    5006.307378    499.388756     99.525989   5003.517733\n",
       "std     2887.489984    289.378904     57.735530   2887.739144\n",
       "min        0.000000      0.000000      0.000000      0.000000\n",
       "25%     2502.000000    248.000000     50.000000   2498.750000\n",
       "50%     5003.000000    500.000000    100.000000   5008.000000\n",
       "75%     7504.000000    750.000000    150.000000   7510.000000\n",
       "max     9999.000000    999.000000    199.000000   9999.000000"
      ]
     },
     "execution_count": 16,
     "metadata": {},
     "output_type": "execute_result"
    }
   ],
   "source": [
    "df.describe()"
   ]
  },
  {
   "cell_type": "markdown",
   "metadata": {},
   "source": [
    "In Depth Analysis"
   ]
  },
  {
   "cell_type": "code",
   "execution_count": 18,
   "metadata": {},
   "outputs": [
    {
     "data": {
      "text/plain": [
       "<bound method NDFrame.head of              Date Category  Likes  Shares  Reposts  Comments\n",
       "0      2015-01-01     Food   9958     316       23      4047\n",
       "1      2015-01-01   Travel   7303     349      107      5845\n",
       "2      2015-01-01    Music    902      40      181      6418\n",
       "3      2015-01-01    Music   5860     331       13      2535\n",
       "4      2015-01-01   Family   7294      60       60      5799\n",
       "...           ...      ...    ...     ...      ...       ...\n",
       "89995  2023-12-30   Travel   1382     991      180      8822\n",
       "89996  2023-12-30   Travel    104     993       69      7364\n",
       "89997  2023-12-30    Music   5132     190      175       827\n",
       "89998  2023-12-30   Health   4621     864      157      1298\n",
       "89999  2023-12-31  Fitness   7139     854      119       725\n",
       "\n",
       "[90000 rows x 6 columns]>"
      ]
     },
     "execution_count": 18,
     "metadata": {},
     "output_type": "execute_result"
    }
   ],
   "source": [
    "df.head"
   ]
  },
  {
   "cell_type": "code",
   "execution_count": 19,
   "metadata": {},
   "outputs": [
    {
     "data": {
      "text/plain": [
       "<bound method NDFrame.tail of              Date Category  Likes  Shares  Reposts  Comments\n",
       "0      2015-01-01     Food   9958     316       23      4047\n",
       "1      2015-01-01   Travel   7303     349      107      5845\n",
       "2      2015-01-01    Music    902      40      181      6418\n",
       "3      2015-01-01    Music   5860     331       13      2535\n",
       "4      2015-01-01   Family   7294      60       60      5799\n",
       "...           ...      ...    ...     ...      ...       ...\n",
       "89995  2023-12-30   Travel   1382     991      180      8822\n",
       "89996  2023-12-30   Travel    104     993       69      7364\n",
       "89997  2023-12-30    Music   5132     190      175       827\n",
       "89998  2023-12-30   Health   4621     864      157      1298\n",
       "89999  2023-12-31  Fitness   7139     854      119       725\n",
       "\n",
       "[90000 rows x 6 columns]>"
      ]
     },
     "execution_count": 19,
     "metadata": {},
     "output_type": "execute_result"
    }
   ],
   "source": [
    "df.tail"
   ]
  },
  {
   "cell_type": "code",
   "execution_count": 20,
   "metadata": {},
   "outputs": [
    {
     "data": {
      "text/plain": [
       "Date        object\n",
       "Category    object\n",
       "Likes        int64\n",
       "Shares       int64\n",
       "Reposts      int64\n",
       "Comments     int64\n",
       "dtype: object"
      ]
     },
     "execution_count": 20,
     "metadata": {},
     "output_type": "execute_result"
    }
   ],
   "source": [
    "df.dtypes"
   ]
  },
  {
   "cell_type": "code",
   "execution_count": 21,
   "metadata": {},
   "outputs": [
    {
     "data": {
      "text/html": [
       "<div>\n",
       "<style scoped>\n",
       "    .dataframe tbody tr th:only-of-type {\n",
       "        vertical-align: middle;\n",
       "    }\n",
       "\n",
       "    .dataframe tbody tr th {\n",
       "        vertical-align: top;\n",
       "    }\n",
       "\n",
       "    .dataframe thead th {\n",
       "        text-align: right;\n",
       "    }\n",
       "</style>\n",
       "<table border=\"1\" class=\"dataframe\">\n",
       "  <thead>\n",
       "    <tr style=\"text-align: right;\">\n",
       "      <th></th>\n",
       "      <th>Likes</th>\n",
       "      <th>Shares</th>\n",
       "      <th>Reposts</th>\n",
       "      <th>Comments</th>\n",
       "    </tr>\n",
       "  </thead>\n",
       "  <tbody>\n",
       "    <tr>\n",
       "      <th>Likes</th>\n",
       "      <td>1.000000</td>\n",
       "      <td>-0.000147</td>\n",
       "      <td>0.005977</td>\n",
       "      <td>-0.000035</td>\n",
       "    </tr>\n",
       "    <tr>\n",
       "      <th>Shares</th>\n",
       "      <td>-0.000147</td>\n",
       "      <td>1.000000</td>\n",
       "      <td>-0.001656</td>\n",
       "      <td>-0.000103</td>\n",
       "    </tr>\n",
       "    <tr>\n",
       "      <th>Reposts</th>\n",
       "      <td>0.005977</td>\n",
       "      <td>-0.001656</td>\n",
       "      <td>1.000000</td>\n",
       "      <td>0.000275</td>\n",
       "    </tr>\n",
       "    <tr>\n",
       "      <th>Comments</th>\n",
       "      <td>-0.000035</td>\n",
       "      <td>-0.000103</td>\n",
       "      <td>0.000275</td>\n",
       "      <td>1.000000</td>\n",
       "    </tr>\n",
       "  </tbody>\n",
       "</table>\n",
       "</div>"
      ],
      "text/plain": [
       "             Likes    Shares   Reposts  Comments\n",
       "Likes     1.000000 -0.000147  0.005977 -0.000035\n",
       "Shares   -0.000147  1.000000 -0.001656 -0.000103\n",
       "Reposts   0.005977 -0.001656  1.000000  0.000275\n",
       "Comments -0.000035 -0.000103  0.000275  1.000000"
      ]
     },
     "execution_count": 21,
     "metadata": {},
     "output_type": "execute_result"
    }
   ],
   "source": [
    "df.corr()"
   ]
  },
  {
   "cell_type": "code",
   "execution_count": 22,
   "metadata": {},
   "outputs": [
    {
     "data": {
      "text/plain": [
       "Index(['Likes', 'Shares', 'Reposts', 'Comments'], dtype='object')"
      ]
     },
     "execution_count": 22,
     "metadata": {},
     "output_type": "execute_result"
    }
   ],
   "source": [
    "numeric_features = df.select_dtypes(include = [np.int64])\n",
    "numeric_features.columns"
   ]
  },
  {
   "cell_type": "code",
   "execution_count": 23,
   "metadata": {},
   "outputs": [
    {
     "data": {
      "text/plain": [
       "Index(['Date', 'Category'], dtype='object')"
      ]
     },
     "execution_count": 23,
     "metadata": {},
     "output_type": "execute_result"
    }
   ],
   "source": [
    "categorical_features = df.select_dtypes(include = [object])\n",
    "categorical_features.columns"
   ]
  },
  {
   "cell_type": "code",
   "execution_count": 24,
   "metadata": {},
   "outputs": [
    {
     "data": {
      "text/plain": [
       "<bound method DataFrame.skew of              Date Category  Likes  Shares  Reposts  Comments\n",
       "0      2015-01-01     Food   9958     316       23      4047\n",
       "1      2015-01-01   Travel   7303     349      107      5845\n",
       "2      2015-01-01    Music    902      40      181      6418\n",
       "3      2015-01-01    Music   5860     331       13      2535\n",
       "4      2015-01-01   Family   7294      60       60      5799\n",
       "...           ...      ...    ...     ...      ...       ...\n",
       "89995  2023-12-30   Travel   1382     991      180      8822\n",
       "89996  2023-12-30   Travel    104     993       69      7364\n",
       "89997  2023-12-30    Music   5132     190      175       827\n",
       "89998  2023-12-30   Health   4621     864      157      1298\n",
       "89999  2023-12-31  Fitness   7139     854      119       725\n",
       "\n",
       "[90000 rows x 6 columns]>"
      ]
     },
     "execution_count": 24,
     "metadata": {},
     "output_type": "execute_result"
    }
   ],
   "source": [
    "df.skew"
   ]
  },
  {
   "cell_type": "code",
   "execution_count": 25,
   "metadata": {},
   "outputs": [
    {
     "data": {
      "text/html": [
       "<div>\n",
       "<style scoped>\n",
       "    .dataframe tbody tr th:only-of-type {\n",
       "        vertical-align: middle;\n",
       "    }\n",
       "\n",
       "    .dataframe tbody tr th {\n",
       "        vertical-align: top;\n",
       "    }\n",
       "\n",
       "    .dataframe thead th {\n",
       "        text-align: right;\n",
       "    }\n",
       "</style>\n",
       "<table border=\"1\" class=\"dataframe\">\n",
       "  <thead>\n",
       "    <tr style=\"text-align: right;\">\n",
       "      <th></th>\n",
       "      <th>Date</th>\n",
       "      <th>Category</th>\n",
       "    </tr>\n",
       "  </thead>\n",
       "  <tbody>\n",
       "    <tr>\n",
       "      <th>count</th>\n",
       "      <td>90000</td>\n",
       "      <td>90000</td>\n",
       "    </tr>\n",
       "    <tr>\n",
       "      <th>unique</th>\n",
       "      <td>3287</td>\n",
       "      <td>8</td>\n",
       "    </tr>\n",
       "    <tr>\n",
       "      <th>top</th>\n",
       "      <td>2019-08-23</td>\n",
       "      <td>Food</td>\n",
       "    </tr>\n",
       "    <tr>\n",
       "      <th>freq</th>\n",
       "      <td>28</td>\n",
       "      <td>11372</td>\n",
       "    </tr>\n",
       "  </tbody>\n",
       "</table>\n",
       "</div>"
      ],
      "text/plain": [
       "              Date Category\n",
       "count        90000    90000\n",
       "unique        3287        8\n",
       "top     2019-08-23     Food\n",
       "freq            28    11372"
      ]
     },
     "execution_count": 25,
     "metadata": {},
     "output_type": "execute_result"
    }
   ],
   "source": [
    "df.describe(include = ['object'])"
   ]
  },
  {
   "cell_type": "code",
   "execution_count": 26,
   "metadata": {},
   "outputs": [
    {
     "data": {
      "text/html": [
       "<div>\n",
       "<style scoped>\n",
       "    .dataframe tbody tr th:only-of-type {\n",
       "        vertical-align: middle;\n",
       "    }\n",
       "\n",
       "    .dataframe tbody tr th {\n",
       "        vertical-align: top;\n",
       "    }\n",
       "\n",
       "    .dataframe thead th {\n",
       "        text-align: right;\n",
       "    }\n",
       "</style>\n",
       "<table border=\"1\" class=\"dataframe\">\n",
       "  <thead>\n",
       "    <tr style=\"text-align: right;\">\n",
       "      <th></th>\n",
       "      <th>Likes</th>\n",
       "      <th>Shares</th>\n",
       "      <th>Reposts</th>\n",
       "      <th>Comments</th>\n",
       "    </tr>\n",
       "  </thead>\n",
       "  <tbody>\n",
       "    <tr>\n",
       "      <th>count</th>\n",
       "      <td>90000.000000</td>\n",
       "      <td>90000.000000</td>\n",
       "      <td>90000.000000</td>\n",
       "      <td>90000.000000</td>\n",
       "    </tr>\n",
       "    <tr>\n",
       "      <th>mean</th>\n",
       "      <td>5006.307378</td>\n",
       "      <td>499.388756</td>\n",
       "      <td>99.525989</td>\n",
       "      <td>5003.517733</td>\n",
       "    </tr>\n",
       "    <tr>\n",
       "      <th>std</th>\n",
       "      <td>2887.489984</td>\n",
       "      <td>289.378904</td>\n",
       "      <td>57.735530</td>\n",
       "      <td>2887.739144</td>\n",
       "    </tr>\n",
       "    <tr>\n",
       "      <th>min</th>\n",
       "      <td>0.000000</td>\n",
       "      <td>0.000000</td>\n",
       "      <td>0.000000</td>\n",
       "      <td>0.000000</td>\n",
       "    </tr>\n",
       "    <tr>\n",
       "      <th>25%</th>\n",
       "      <td>2502.000000</td>\n",
       "      <td>248.000000</td>\n",
       "      <td>50.000000</td>\n",
       "      <td>2498.750000</td>\n",
       "    </tr>\n",
       "    <tr>\n",
       "      <th>50%</th>\n",
       "      <td>5003.000000</td>\n",
       "      <td>500.000000</td>\n",
       "      <td>100.000000</td>\n",
       "      <td>5008.000000</td>\n",
       "    </tr>\n",
       "    <tr>\n",
       "      <th>75%</th>\n",
       "      <td>7504.000000</td>\n",
       "      <td>750.000000</td>\n",
       "      <td>150.000000</td>\n",
       "      <td>7510.000000</td>\n",
       "    </tr>\n",
       "    <tr>\n",
       "      <th>max</th>\n",
       "      <td>9999.000000</td>\n",
       "      <td>999.000000</td>\n",
       "      <td>199.000000</td>\n",
       "      <td>9999.000000</td>\n",
       "    </tr>\n",
       "  </tbody>\n",
       "</table>\n",
       "</div>"
      ],
      "text/plain": [
       "              Likes        Shares       Reposts      Comments\n",
       "count  90000.000000  90000.000000  90000.000000  90000.000000\n",
       "mean    5006.307378    499.388756     99.525989   5003.517733\n",
       "std     2887.489984    289.378904     57.735530   2887.739144\n",
       "min        0.000000      0.000000      0.000000      0.000000\n",
       "25%     2502.000000    248.000000     50.000000   2498.750000\n",
       "50%     5003.000000    500.000000    100.000000   5008.000000\n",
       "75%     7504.000000    750.000000    150.000000   7510.000000\n",
       "max     9999.000000    999.000000    199.000000   9999.000000"
      ]
     },
     "execution_count": 26,
     "metadata": {},
     "output_type": "execute_result"
    }
   ],
   "source": [
    "df.describe(include = ['int64'])"
   ]
  },
  {
   "cell_type": "markdown",
   "metadata": {},
   "source": [
    "Exploratory Data Analysis"
   ]
  },
  {
   "cell_type": "code",
   "execution_count": 27,
   "metadata": {},
   "outputs": [
    {
     "data": {
      "text/plain": [
       "Food       11372\n",
       "Family     11361\n",
       "Travel     11304\n",
       "Fashion    11293\n",
       "Culture    11260\n",
       "Fitness    11220\n",
       "Music      11180\n",
       "Health     11010\n",
       "Name: Category, dtype: int64"
      ]
     },
     "execution_count": 27,
     "metadata": {},
     "output_type": "execute_result"
    }
   ],
   "source": [
    "df['Category'].value_counts()"
   ]
  },
  {
   "cell_type": "code",
   "execution_count": 28,
   "metadata": {},
   "outputs": [],
   "source": [
    "df_group = df[['Category', 'Likes', 'Reposts']]"
   ]
  },
  {
   "cell_type": "code",
   "execution_count": 29,
   "metadata": {},
   "outputs": [
    {
     "data": {
      "text/html": [
       "<div>\n",
       "<style scoped>\n",
       "    .dataframe tbody tr th:only-of-type {\n",
       "        vertical-align: middle;\n",
       "    }\n",
       "\n",
       "    .dataframe tbody tr th {\n",
       "        vertical-align: top;\n",
       "    }\n",
       "\n",
       "    .dataframe thead th {\n",
       "        text-align: right;\n",
       "    }\n",
       "</style>\n",
       "<table border=\"1\" class=\"dataframe\">\n",
       "  <thead>\n",
       "    <tr style=\"text-align: right;\">\n",
       "      <th></th>\n",
       "      <th>Category</th>\n",
       "      <th>Likes</th>\n",
       "      <th>Reposts</th>\n",
       "    </tr>\n",
       "  </thead>\n",
       "  <tbody>\n",
       "    <tr>\n",
       "      <th>0</th>\n",
       "      <td>Culture</td>\n",
       "      <td>5000.106306</td>\n",
       "      <td>99.664565</td>\n",
       "    </tr>\n",
       "    <tr>\n",
       "      <th>1</th>\n",
       "      <td>Family</td>\n",
       "      <td>4976.955638</td>\n",
       "      <td>99.450665</td>\n",
       "    </tr>\n",
       "    <tr>\n",
       "      <th>2</th>\n",
       "      <td>Fashion</td>\n",
       "      <td>5029.228637</td>\n",
       "      <td>98.992119</td>\n",
       "    </tr>\n",
       "    <tr>\n",
       "      <th>3</th>\n",
       "      <td>Fitness</td>\n",
       "      <td>5011.938414</td>\n",
       "      <td>99.531194</td>\n",
       "    </tr>\n",
       "    <tr>\n",
       "      <th>4</th>\n",
       "      <td>Food</td>\n",
       "      <td>5003.381375</td>\n",
       "      <td>99.090925</td>\n",
       "    </tr>\n",
       "    <tr>\n",
       "      <th>5</th>\n",
       "      <td>Health</td>\n",
       "      <td>5011.621980</td>\n",
       "      <td>99.893551</td>\n",
       "    </tr>\n",
       "    <tr>\n",
       "      <th>6</th>\n",
       "      <td>Music</td>\n",
       "      <td>5019.335420</td>\n",
       "      <td>99.795349</td>\n",
       "    </tr>\n",
       "    <tr>\n",
       "      <th>7</th>\n",
       "      <td>Travel</td>\n",
       "      <td>4998.378008</td>\n",
       "      <td>99.805113</td>\n",
       "    </tr>\n",
       "  </tbody>\n",
       "</table>\n",
       "</div>"
      ],
      "text/plain": [
       "  Category        Likes    Reposts\n",
       "0  Culture  5000.106306  99.664565\n",
       "1   Family  4976.955638  99.450665\n",
       "2  Fashion  5029.228637  98.992119\n",
       "3  Fitness  5011.938414  99.531194\n",
       "4     Food  5003.381375  99.090925\n",
       "5   Health  5011.621980  99.893551\n",
       "6    Music  5019.335420  99.795349\n",
       "7   Travel  4998.378008  99.805113"
      ]
     },
     "execution_count": 29,
     "metadata": {},
     "output_type": "execute_result"
    }
   ],
   "source": [
    "df_group = df_group.groupby(['Category'], as_index = False).mean()\n",
    "df_group"
   ]
  },
  {
   "cell_type": "code",
   "execution_count": 30,
   "metadata": {},
   "outputs": [
    {
     "data": {
      "text/html": [
       "<div>\n",
       "<style scoped>\n",
       "    .dataframe tbody tr th:only-of-type {\n",
       "        vertical-align: middle;\n",
       "    }\n",
       "\n",
       "    .dataframe tbody tr th {\n",
       "        vertical-align: top;\n",
       "    }\n",
       "\n",
       "    .dataframe thead th {\n",
       "        text-align: right;\n",
       "    }\n",
       "</style>\n",
       "<table border=\"1\" class=\"dataframe\">\n",
       "  <thead>\n",
       "    <tr style=\"text-align: right;\">\n",
       "      <th></th>\n",
       "      <th>Category</th>\n",
       "      <th>Reposts</th>\n",
       "      <th>Likes</th>\n",
       "    </tr>\n",
       "  </thead>\n",
       "  <tbody>\n",
       "    <tr>\n",
       "      <th>0</th>\n",
       "      <td>Culture</td>\n",
       "      <td>0</td>\n",
       "      <td>5756.380000</td>\n",
       "    </tr>\n",
       "    <tr>\n",
       "      <th>1</th>\n",
       "      <td>Culture</td>\n",
       "      <td>1</td>\n",
       "      <td>5052.400000</td>\n",
       "    </tr>\n",
       "    <tr>\n",
       "      <th>2</th>\n",
       "      <td>Culture</td>\n",
       "      <td>2</td>\n",
       "      <td>5211.826923</td>\n",
       "    </tr>\n",
       "    <tr>\n",
       "      <th>3</th>\n",
       "      <td>Culture</td>\n",
       "      <td>3</td>\n",
       "      <td>5121.428571</td>\n",
       "    </tr>\n",
       "    <tr>\n",
       "      <th>4</th>\n",
       "      <td>Culture</td>\n",
       "      <td>4</td>\n",
       "      <td>4733.907407</td>\n",
       "    </tr>\n",
       "    <tr>\n",
       "      <th>...</th>\n",
       "      <td>...</td>\n",
       "      <td>...</td>\n",
       "      <td>...</td>\n",
       "    </tr>\n",
       "    <tr>\n",
       "      <th>1595</th>\n",
       "      <td>Travel</td>\n",
       "      <td>195</td>\n",
       "      <td>5531.033333</td>\n",
       "    </tr>\n",
       "    <tr>\n",
       "      <th>1596</th>\n",
       "      <td>Travel</td>\n",
       "      <td>196</td>\n",
       "      <td>4550.796875</td>\n",
       "    </tr>\n",
       "    <tr>\n",
       "      <th>1597</th>\n",
       "      <td>Travel</td>\n",
       "      <td>197</td>\n",
       "      <td>4839.553571</td>\n",
       "    </tr>\n",
       "    <tr>\n",
       "      <th>1598</th>\n",
       "      <td>Travel</td>\n",
       "      <td>198</td>\n",
       "      <td>4961.894737</td>\n",
       "    </tr>\n",
       "    <tr>\n",
       "      <th>1599</th>\n",
       "      <td>Travel</td>\n",
       "      <td>199</td>\n",
       "      <td>4777.000000</td>\n",
       "    </tr>\n",
       "  </tbody>\n",
       "</table>\n",
       "<p>1600 rows × 3 columns</p>\n",
       "</div>"
      ],
      "text/plain": [
       "     Category  Reposts        Likes\n",
       "0     Culture        0  5756.380000\n",
       "1     Culture        1  5052.400000\n",
       "2     Culture        2  5211.826923\n",
       "3     Culture        3  5121.428571\n",
       "4     Culture        4  4733.907407\n",
       "...       ...      ...          ...\n",
       "1595   Travel      195  5531.033333\n",
       "1596   Travel      196  4550.796875\n",
       "1597   Travel      197  4839.553571\n",
       "1598   Travel      198  4961.894737\n",
       "1599   Travel      199  4777.000000\n",
       "\n",
       "[1600 rows x 3 columns]"
      ]
     },
     "execution_count": 30,
     "metadata": {},
     "output_type": "execute_result"
    }
   ],
   "source": [
    "#grouping results\n",
    "df_gptest = df[['Category', 'Likes', 'Reposts']]\n",
    "grouped_test1 = df_gptest.groupby(['Category', 'Reposts'], as_index = False).mean()\n",
    "grouped_test1"
   ]
  },
  {
   "cell_type": "markdown",
   "metadata": {},
   "source": [
    "Pearson Correlation Helps in Defining Linear Correlation Between Two Variables"
   ]
  },
  {
   "cell_type": "code",
   "execution_count": 33,
   "metadata": {},
   "outputs": [
    {
     "name": "stdout",
     "output_type": "stream",
     "text": [
      "The PearsonR between Likes and Likes is 1.0 with a P-value of P = 0.0\n",
      "Correlation between Likes and Likes is statistically significant..\n",
      "Coeff ~1.0 shows that the realtionship is positive and very strong.\n",
      "\n",
      "The PearsonR between Shares and Likes is -0.0001 with a P-value of P = 0.9647\n",
      "Correlation between Shares and Likes is statistically not significant..\n",
      "Coefficient ~-0.0001 shows that the realtionship is negative and weak.\n",
      "\n",
      "The PearsonR between Reposts and Likes is 0.006 with a P-value of P = 0.0729\n",
      "Correlation between Reposts and Likes is statistically weak..\n",
      "Coefficient ~0.006 shows that the realtionship is positive and weak.\n",
      "\n",
      "The PearsonR between Comments and Likes is -0.0 with a P-value of P = 0.9916\n",
      "Correlation between Comments and Likes is statistically not significant..\n",
      "Coefficient ~-0.0 shows that the realtionship is negative and weak.\n",
      "\n"
     ]
    }
   ],
   "source": [
    "from scipy import stats\n",
    "#Let's calculate the Pearson Correlation Coefficient and P-value of different variables\n",
    "cols = ['Likes', 'Shares', 'Reposts', 'Comments']\n",
    "\n",
    "for col in cols:\n",
    "    pearson_coef, p_value = stats.pearsonr(df[col], df['Likes'])\n",
    "    print(\"The PearsonR between {} and Likes is {} with a P-value of P = {}\".format\n",
    "          (col, round(pearson_coef, 4), round(p_value, 4)))\n",
    "    \n",
    "    if p_value < 0.001:\n",
    "        print('Correlation between {} and Likes is statistically significant..'.format(col))\n",
    "    elif p_value < 0.05:\n",
    "        print('Correlation between {} and Likes is statistically moderate..'.format(col))\n",
    "    elif p_value < 0.1:\n",
    "        print('Correlation between {} and Likes is statistically weak..'.format(col))\n",
    "    else:\n",
    "        print('Correlation between {} and Likes is statistically not significant..'.format(col))\n",
    "        \n",
    "    if pearson_coef > 0:\n",
    "        if pearson_coef > 0.85:\n",
    "            print('Coeff ~{} shows that the realtionship is positive and very strong.\\n'.format(round(pearson_coef, 4)))\n",
    "        elif pearson_coef > 0.75:    \n",
    "            print('Coeff ~{} shows that the realtionship is positive and quite strong.\\n'.format(round(pearson_coef, 4)))\n",
    "        elif pearson_coef > 0.60:    \n",
    "            print('Coeff ~{} shows that the realtionship is positive and moderately strong.\\n'.format(round(pearson_coef, 4)))\n",
    "        elif pearson_coef > 0.50:   \n",
    "            print('Coeff ~{} shows that the realtionship is positive and only moderate.\\n'.format(round(pearson_coef, 4)))\n",
    "        else:    \n",
    "            print('Coefficient ~{} shows that the realtionship is positive and weak.\\n'.format(round(pearson_coef, 4)))\n",
    "    else:\n",
    "        if abs(pearson_coef) > 0.85:\n",
    "            print('Coeff ~{} shows that the realtionship is negative and very strong.\\n'.format(round(pearson_coef, 4)))\n",
    "        elif abs(pearson_coef) > 0.75:    \n",
    "            print('Coeff ~{} shows that the realtionship is negative and quite strong.\\n'.format(round(pearson_coef, 4)))\n",
    "        elif pearson_coef > 0.60:    \n",
    "            print('Coeff ~{} shows that the realtionship is negative and moderately strong.\\n'.format(round(pearson_coef, 4)))\n",
    "        elif pearson_coef > 0.50:    \n",
    "            print('Coeff ~{} shows that the realtionship is negative and only moderate.\\n'.format(round(pearson_coef, 4)))\n",
    "        else:    \n",
    "            print('Coefficient ~{} shows that the realtionship is negative and weak.\\n'.format(round(pearson_coef, 4)))\n",
    "            \n",
    "    "
   ]
  },
  {
   "cell_type": "markdown",
   "metadata": {},
   "source": [
    "Graphical Analysis"
   ]
  },
  {
   "cell_type": "code",
   "execution_count": 34,
   "metadata": {},
   "outputs": [
    {
     "data": {
      "text/plain": [
       "<matplotlib.axes._subplots.AxesSubplot at 0x798e309f71d0>"
      ]
     },
     "execution_count": 34,
     "metadata": {},
     "output_type": "execute_result"
    },
    {
     "data": {
      "image/png": "[encoded data removed]",
      "text/plain": [
       "<Figure size 432x288 with 1 Axes>"
      ]
     },
     "metadata": {
      "needs_background": "light"
     },
     "output_type": "display_data"
    }
   ],
   "source": [
    "sns.distplot(df.skew(), color = 'blue', axlabel = 'Skewness')"
   ]
  },
  {
   "cell_type": "markdown",
   "metadata": {},
   "source": [
    "A distplot infers the distribution of a variable"
   ]
  },
  {
   "cell_type": "code",
   "execution_count": 35,
   "metadata": {},
   "outputs": [
    {
     "data": {
      "image/png": "[encoded data removed]",
      "text/plain": [
       "<Figure size 360x360 with 1 Axes>"
      ]
     },
     "metadata": {
      "needs_background": "light"
     },
     "output_type": "display_data"
    }
   ],
   "source": [
    "plt.figure(figsize = (5, 5))\n",
    "sns.distplot(df.kurt(), color = 'r', axlabel = 'Kurtosis', norm_hist = False, kde = True, rug = False)\n",
    "plt.show()"
   ]
  },
  {
   "cell_type": "markdown",
   "metadata": {},
   "source": [
    "A heatmap shows the variation of a continuous value across two dimensions"
   ]
  },
  {
   "cell_type": "code",
   "execution_count": 38,
   "metadata": {},
   "outputs": [
    {
     "name": "stdout",
     "output_type": "stream",
     "text": [
      "Index(['Likes', 'Reposts', 'Comments', 'Shares'], dtype='object')\n"
     ]
    },
    {
     "data": {
      "text/plain": [
       "<matplotlib.axes._subplots.AxesSubplot at 0x798e30eaa790>"
      ]
     },
     "execution_count": 38,
     "metadata": {},
     "output_type": "execute_result"
    },
    {
     "data": {
      "image/png": "[encoded data removed]",
      "text/plain": [
       "<Figure size 1008x864 with 2 Axes>"
      ]
     },
     "metadata": {
      "needs_background": "light"
     },
     "output_type": "display_data"
    }
   ],
   "source": [
    "k= 11\n",
    "correlation = numeric_features.corr()\n",
    "cols = correlation.nlargest(k,'Likes')['Likes'].index\n",
    "print(cols)\n",
    "cm = np.corrcoef(df[cols].values.T)\n",
    "f , ax = plt.subplots(figsize = (14,12))\n",
    "sns.heatmap(cm, vmax=.8, linewidths=0.01,square=True,annot=True,cmap='viridis',\n",
    "            linecolor=\"white\",xticklabels = cols.values ,annot_kws = {'size':12},yticklabels = cols.values)"
   ]
  },
  {
   "cell_type": "code",
   "execution_count": null,
   "metadata": {},
   "outputs": [],
   "source": []
  }
 ],
 "metadata": {
  "kernelspec": {
   "display_name": "Python 3",
   "language": "python",
   "name": "python3"
  },
  "language_info": {
   "codemirror_mode": {
    "name": "ipython",
    "version": 3
   },
   "file_extension": ".py",
   "mimetype": "text/x-python",
   "name": "python",
   "nbconvert_exporter": "python",
   "pygments_lexer": "ipython3",
   "version": "3.7.6"
  }
 },
 "nbformat": 4,
 "nbformat_minor": 4
}
